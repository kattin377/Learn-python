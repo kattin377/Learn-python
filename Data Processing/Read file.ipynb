{
 "cells": [
  {
   "cell_type": "code",
   "execution_count": null,
   "id": "e6d108db",
   "metadata": {},
   "outputs": [
    {
     "name": "stdout",
     "output_type": "stream",
     "text": [
      "877794.5625\t4628407.5\t877716.625\t4628627.5\n",
      "877826.4375\t4628373.5\t877744.1875\t4628590\n",
      "877855.375\t4628336\t877772.9375\t4628550.5\n",
      "877887.0625\t4628304\t877802.3125\t4628514\n",
      "877915\t4628269\t877838.25\t4628480\n"
     ]
    }
   ],
   "source": [
    "# tool 1\n",
    "\n",
    "with open('./2014.txt', 'r') as f:\n",
    "    content = f.read()\n",
    "\n",
    "# 打出前五行\n",
    "for line in content.splitlines()[:5]:\n",
    "    print(line)"
   ]
  },
  {
   "cell_type": "code",
   "execution_count": null,
   "id": "e658cdb4",
   "metadata": {},
   "outputs": [
    {
     "name": "stdout",
     "output_type": "stream",
     "text": [
      "877794.5625\t4628407.5\t877716.625\t4628627.5\n",
      "877826.4375\t4628373.5\t877744.1875\t4628590\n",
      "877855.375\t4628336\t877772.9375\t4628550.5\n",
      "877887.0625\t4628304\t877802.3125\t4628514\n",
      "877915\t4628269\t877838.25\t4628480\n",
      "877945.5\t4628227\t877847.5\t4628434\n",
      "877973.9375\t4628196\t877875.5\t4628397\n",
      "878003.625\t4628157\t877906.125\t4628361.5\n",
      "878035.125\t4628122\t877941.6875\t4628327\n",
      "878064.9375\t4628081\t877971.625\t4628291\n",
      "878097.375\t4628049.5\t878002.75\t4628255.5\n",
      "878124.125\t4628015.5\t878037.625\t4628221\n",
      "878147.5625\t4627977.5\t878081.8125\t4628190.5\n",
      "878161.0625\t4627929.5\t878106\t4628152.5\n",
      "878172.625\t4627885.5\t878117\t4628107\n",
      "878191.9375\t4627842.5\t878139.1875\t4628067\n",
      "878213.4375\t4627803.5\t878150.875\t4628023.5\n",
      "878235.875\t4627769\t878174.8125\t4627983.5\n",
      "878260.5625\t4627726.5\t878191.9375\t4627942.5\n",
      "878284.375\t4627691\t878218.1875\t4627908.5\n",
      "878306.75\t4627652\t878229.375\t4627865.5\n",
      "878325.625\t4627612\t878263.125\t4627829.5\n",
      "878336.75\t4627568.5\t878281.0625\t4627783\n",
      "878340.125\t4627530.5\t878277.5\t4627736\n",
      "878336.9375\t4627487\t878292.3125\t4627693.5\n",
      "87\n"
     ]
    }
   ],
   "source": [
    "# tool 2\n",
    "\n",
    "file_path ='./2014.txt'\n",
    "\n",
    "with open(file_path, 'r', encoding='utf-8') as f:\n",
    "    # your code to read or process the file goes here\n",
    "    content = f.read()\n",
    "\n",
    "print(content[:1000])  # 打印前1000个字符"
   ]
  },
  {
   "cell_type": "code",
   "execution_count": null,
   "id": "81fee358",
   "metadata": {},
   "outputs": [
    {
     "name": "stdout",
     "output_type": "stream",
     "text": [
      "     877794.5625\\t4628407.5\\t877716.625\\t4628627.5\n",
      "0     877826.4375\\t4628373.5\\t877744.1875\\t4628590\n",
      "1      877855.375\\t4628336\\t877772.9375\\t4628550.5\n",
      "2       877887.0625\\t4628304\\t877802.3125\\t4628514\n",
      "3              877915\\t4628269\\t877838.25\\t4628480\n",
      "4             877945.5\\t4628227\\t877847.5\\t4628434\n",
      "...                                            ...\n",
      "1994   932086.75\\t4576963.5\\t931782.625\\t4576387.5\n",
      "1995   932120.125\\t4576893.5\\t931782.6875\\t4576345\n",
      "1996       932098.875\\t4576833\\t931777.75\\t4576300\n",
      "1997       932099.8125\\t4576785\\t931783.5\\t4576258\n",
      "1998  932138.5625\\t4576624\\t931790.4375\\t4576227.5\n",
      "\n",
      "[1999 rows x 1 columns]\n"
     ]
    }
   ],
   "source": [
    "# tool 3 recommended !\n",
    "\n",
    "# csv文件，使用pandas库中的read_csv()函数读取\n",
    "import pandas as pd\n",
    "# df = pd.read_csv('file.csv')\n",
    "df = pd.read_csv('./2014.txt')   #相对路径较为便捷\n",
    "\n",
    "print(df)"
   ]
  },
  {
   "cell_type": "code",
   "execution_count": null,
   "id": "8231b1b5",
   "metadata": {},
   "outputs": [],
   "source": [
    "tool 4\n",
    "\n",
    "import os\n",
    "\n"
   ]
  },
  {
   "cell_type": "code",
   "execution_count": null,
   "id": "0b69b7a3",
   "metadata": {},
   "outputs": [
    {
     "name": "stdout",
     "output_type": "stream",
     "text": [
      "[877826.4375 877855.375  877887.0625 ... 932098.875  932099.8125\n",
      " 932138.5625]\n"
     ]
    }
   ],
   "source": [
    "# 实际应用，模块化调用\n",
    "import numpy as np\n",
    "file_path= './2014.txt'\n",
    "\n",
    "def read_column(file_path):  # 读取指定列数据\n",
    "    values = []\n",
    "    with open(file_path, 'r', encoding='utf-8') as file:\n",
    "\n",
    "        next(file)  # 跳过第一行\n",
    "\n",
    "        for line in file:\n",
    "            # tokens = line.strip().split(',')  # 以逗号分隔每一行\n",
    "            tokens = line.strip().split()  # 以空格分隔每一行\n",
    "            try:\n",
    "                values.append(float(tokens[0])) # 提取第1列，在这里修改读取数据列\n",
    "            except (IndexError, ValueError):\n",
    "                continue\n",
    "    return np.array(values)\n",
    "\n",
    "u_values = read_column(file_path)  # 读取对应列数据\n",
    "\n",
    "print(u_values)  \n",
    "\n",
    "# def main():\n",
    "#     u_values = read_column(file_path)  # 读取对应列数据\n",
    "\n",
    "#     print(u_values)  \n",
    "\n",
    "# if __name__ == \"__main__\":   # 运行主函数\n",
    "#     main()\n"
   ]
  },
  {
   "cell_type": "code",
   "execution_count": null,
   "id": "c441f88b",
   "metadata": {},
   "outputs": [],
   "source": []
  }
 ],
 "metadata": {
  "kernelspec": {
   "display_name": "base",
   "language": "python",
   "name": "python3"
  },
  "language_info": {
   "codemirror_mode": {
    "name": "ipython",
    "version": 3
   },
   "file_extension": ".py",
   "mimetype": "text/x-python",
   "name": "python",
   "nbconvert_exporter": "python",
   "pygments_lexer": "ipython3",
   "version": "3.12.3"
  }
 },
 "nbformat": 4,
 "nbformat_minor": 5
}
